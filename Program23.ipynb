{
 "cells": [
  {
   "cell_type": "markdown",
   "id": "92ef00bf-1bf0-499f-8ff2-1d33fbf9e0ce",
   "metadata": {},
   "source": [
    "# Q1. Write a program to calculate the electricity bill\n",
    "# using only if statement? (accept number of unit from user)\n",
    "# according to the following criteria:\n",
    "\n",
    "# Unit Price\n",
    "# First 100 units no charge\n",
    "# Next 100 units Rs 5 per unit\n",
    "# After 200 units Rs 10 per unit"
   ]
  },
  {
   "cell_type": "code",
   "execution_count": 6,
   "id": "c3eaedf8-266f-4d53-b503-8721c11cd118",
   "metadata": {},
   "outputs": [
    {
     "name": "stdin",
     "output_type": "stream",
     "text": [
      "enter the unit of electricity bill: 20\n"
     ]
    },
    {
     "name": "stdout",
     "output_type": "stream",
     "text": [
      "electricity bill is 0\n",
      "the total electricity bill is:0.00\n"
     ]
    }
   ],
   "source": [
    "unit=int(input(\"enter the unit of electricity bill:\"))\n",
    "Electricity_bill=0\n",
    "\n",
    "if unit>0:\n",
    "    print(\"electricity bill is 0\")\n",
    "    Electricity_bill+=(unit*0)\n",
    "    \n",
    "elif  unit>100:\n",
    "    print(\"electricity bill is ₹5\")\n",
    "    Electricity_bill+=(unit-100)*5\n",
    "    \n",
    "elif unit>200:\n",
    "    print(\"electricity bill is ₹10\")\n",
    "    Electricity_bill+=(unit-200)*10\n",
    "\n",
    "print(f\"the total electricity bill is:{Electricity_bill:.2f}\")"
   ]
  },
  {
   "cell_type": "markdown",
   "id": "2de870c6-3a26-45a7-bf15-72ef97de98dd",
   "metadata": {},
   "source": [
    "# Q2. Write a program to accept percentage from the user and display\n",
    "the grade according to the following criteria:\n",
    "\n",
    "Marks Grade\n",
    "> 90 A\n",
    "> 80 and <= 90 B\n",
    ">= 60 and <= 80 C\n",
    "below 60 D"
   ]
  },
  {
   "cell_type": "code",
   "execution_count": 8,
   "id": "b88735f8-68b3-4819-a894-627f24627edf",
   "metadata": {},
   "outputs": [
    {
     "name": "stdin",
     "output_type": "stream",
     "text": [
      "enter the student percentage: 30\n"
     ]
    },
    {
     "name": "stdout",
     "output_type": "stream",
     "text": [
      "Grade D\n"
     ]
    }
   ],
   "source": [
    "percentage=int(input(\"enter the student percentage:\"))\n",
    "if percentage>90:\n",
    "    print(\" Grade A:\")\n",
    "elif percentage>80 and percentage<=90:\n",
    "    print(\"Grade B\")\n",
    "elif percentage>=60 and percentage<=80:\n",
    "    print(\"Grade C\")\n",
    "elif percentage<60:\n",
    "    print(\"Grade D\")"
   ]
  },
  {
   "cell_type": "markdown",
   "id": "3a3d919c-fe86-45fb-a7a2-aea18a40392e",
   "metadata": {},
   "source": [
    "# Q3. Accept the age of 4 people and display the youngest one?"
   ]
  },
  {
   "cell_type": "code",
   "execution_count": 12,
   "id": "f54f29d7-c5d9-473a-a128-ad0e4e2d3a33",
   "metadata": {},
   "outputs": [
    {
     "name": "stdin",
     "output_type": "stream",
     "text": [
      "enter the age of Person: 12\n",
      "enter the age of Person: 23\n",
      "enter the age of Person: 34\n",
      "enter the age of Person: 56\n"
     ]
    },
    {
     "name": "stdout",
     "output_type": "stream",
     "text": [
      "Youngest people among 4 people: 12\n"
     ]
    }
   ],
   "source": [
    "Age1=str(input(\"enter the age of Person:\"))\n",
    "Age2=str(input(\"enter the age of Person:\"))\n",
    "Age3=str(input(\"enter the age of Person:\"))\n",
    "Age4=str(input(\"enter the age of Person:\"))\n",
    "\n",
    "age_min=min(Age1,Age2,Age3,Age4)\n",
    "print(\"Youngest people among 4 people are :\",age_min)"
   ]
  },
  {
   "cell_type": "markdown",
   "id": "096ad1ba-4b75-4af2-9346-bd00c57ddac1",
   "metadata": {},
   "source": [
    "# Q4. A company decided to give bonus to employee\n",
    "according to following criteria:\n",
    "\n",
    "Time period of Service Bonus\n",
    "\n",
    "More than 10 years 10%\n",
    "\n",
    ">=6 and <=10 8%\n",
    "\n",
    "Less than 6 years 5%"
   ]
  },
  {
   "cell_type": "code",
   "execution_count": 15,
   "id": "de8e5a4d-17aa-47e7-8445-90e7836d10a5",
   "metadata": {},
   "outputs": [
    {
     "name": "stdin",
     "output_type": "stream",
     "text": [
      "enter the salary of employee: 12000\n",
      "enter the experience of employee: 12\n"
     ]
    },
    {
     "name": "stdout",
     "output_type": "stream",
     "text": [
      "Salary of employee are increased by 10%: 13200.0\n"
     ]
    }
   ],
   "source": [
    "Employee_salary=int(input(\"enter the salary of employee:\"))\n",
    "Employee_experience=int(input(\"enter the experience of employee:\"))\n",
    "\n",
    "if Employee_experience>10:\n",
    "   \n",
    "    Employee_salary=(Employee_salary/100)*10+Employee_salary\n",
    "    print(\"Salary of employee are increased by 10%:\",Employee_salary)\n",
    "    \n",
    "elif Employee_experience>=6 and Employee_experience<=10:\n",
    "    \n",
    "    Employee_salary=(Employee_salary/100)*8+Employee_salary\n",
    "    print(\"Salary of employee are increased by 8%:\",Employee_salary)\n",
    "    \n",
    "elif Employee_experience<6:\n",
    "\n",
    "    Employee_salary=(Employee_salary/100)*5+Employee_salary\n",
    "    print(\"Salary of employee are increased by 5%:\",Employee_salary)"
   ]
  },
  {
   "cell_type": "markdown",
   "id": "e60aee51-a230-438a-9bb0-7b741b03b2a4",
   "metadata": {},
   "source": [
    "# Q5. Accept three numbers from the user and\n",
    "display the second largest number?"
   ]
  },
  {
   "cell_type": "code",
   "execution_count": 22,
   "id": "2fe1855f-b6a5-43c5-bfaf-aa1ffd61bf4f",
   "metadata": {},
   "outputs": [
    {
     "name": "stdin",
     "output_type": "stream",
     "text": [
      "enter the number : 12\n",
      "enter the number : 23\n",
      "enter the number : 45\n"
     ]
    },
    {
     "name": "stdout",
     "output_type": "stream",
     "text": [
      "Second largest no are :23\n"
     ]
    }
   ],
   "source": [
    "Num1=int(input(\"enter the number :\"))\n",
    "Num2=int(input(\"enter the number :\"))\n",
    "Num3=int(input(\"enter the number :\"))\n",
    "second_large_num=None\n",
    "if (Num1>Num2 and Num1<Num3) or (Num1>Num3 and Num1<Num2):\n",
    "    second_large_num=Num1\n",
    "\n",
    "elif (Num2>Num1 and Num2<Num3) or (Num2<Num1 and Num2>Num3):\n",
    "    second_large_num=Num2\n",
    "\n",
    "elif (Num3>Num1 and Num3<Num2) or (Num3<Num1 and Num3>Num2):\n",
    "    second_large_num=Num3\n",
    "\n",
    "print(f\"Second largest no are :{second_large_num}\")"
   ]
  },
  {
   "cell_type": "markdown",
   "id": "822e1525-372d-400d-a933-933db7300bec",
   "metadata": {},
   "source": [
    "# Q6. Accept the marked price from the user and calculate\n",
    "the Net amount as (Marked Price – Discount) to pay\n",
    "according to following criteria:\n",
    "\n",
    "Marked Price Discount\n",
    ">10000 20%\n",
    ">7000 and <=10000 15%\n",
    "<=7000 10%"
   ]
  },
  {
   "cell_type": "code",
   "execution_count": 27,
   "id": "d9d40396-c5b3-43c5-a205-01938f568d65",
   "metadata": {},
   "outputs": [
    {
     "name": "stdin",
     "output_type": "stream",
     "text": [
      "enter the value of price: 123456\n"
     ]
    },
    {
     "name": "stdout",
     "output_type": "stream",
     "text": [
      "the total amount after discount  are:98764.8\n"
     ]
    }
   ],
   "source": [
    "Marked_price=int(input(\"enter the value of price:\"))\n",
    "if Marked_price>10000:\n",
    "    marked_price=Marked_price-(Marked_price/100)*20\n",
    "    print(f\"the total amount after discount  are:{marked_price}\")\n",
    "\n",
    "elif Marked_price>7000 and Marked_price<=10000:\n",
    "     marked_price=Marked_price-(Marked_price/100)*15\n",
    "     print(f\"the total amount after discount are:{marked_price}\")\n",
    "\n",
    "elif Marked_price<=7000:\n",
    "     marked_price=Marked_price-(Marked_price/100)*10\n",
    "     print(f\"the total amount after discount are:{marked_price}\")\n",
    "\n",
    "\n"
   ]
  },
  {
   "cell_type": "markdown",
   "id": "241414a2-0cf2-42fd-98e9-52f19b5e4358",
   "metadata": {},
   "source": [
    "# Q7. Accept the marks of English, Math and Science,\n",
    "Social Studies Subject and display the stream allotted\n",
    "according to following:\n",
    "\n",
    "All Subjects more than 80 marks — Science Stream\n",
    "\n",
    "English >80 and Math, Science above 50 — Commerce Stream\n",
    "\n",
    "English > 80 and social studies > 80 — Humanities"
   ]
  },
  {
   "cell_type": "code",
   "execution_count": 33,
   "id": "3363e84a-a0de-408d-acb2-ba7b050d5c8b",
   "metadata": {},
   "outputs": [
    {
     "name": "stdin",
     "output_type": "stream",
     "text": [
      "enter the marks of student in English: 90\n",
      "enter the marks of student Maths: 85\n",
      "enter the marks of student Social_studies:  45\n",
      "enter the marks of student Science: 67\n"
     ]
    },
    {
     "name": "stdout",
     "output_type": "stream",
     "text": [
      "Commerce stream allotted:\n"
     ]
    }
   ],
   "source": [
    "English=int(input(\"enter the marks of student in English:\"))\n",
    "Maths=int(input(\"enter the marks of student Maths:\"))\n",
    "Social_studies=int(input(\"enter the marks of student Social_studies: \"))\n",
    "Science=int(input(\"enter the marks of student Science:\"))\n",
    "if Maths>80 and English>80 and Social_studies>80 and Science>80:\n",
    "    print(\"Scienc streams alloted\")\n",
    "elif English>80 and Maths>50 and Science>50 and Social_studies>33:\n",
    "    print(\"Commerce stream allotted:\")\n",
    "elif English>80 and Social_studies>80 and 33<Maths and Science>33:\n",
    "    print(\"Humanities\")\n",
    "else:\n",
    "    print(\"fail \")"
   ]
  },
  {
   "cell_type": "markdown",
   "id": "dedfe018-27a2-4994-8ef6-ae01d21678e1",
   "metadata": {},
   "source": [
    "# Q8. Write a program to display \"Hello\" if a number entered\n",
    "by user is a multiple of five, otherwise print \"Bye\"?"
   ]
  },
  {
   "cell_type": "code",
   "execution_count": 40,
   "id": "e46e7d96-4f53-43e1-ae9e-492bf5930803",
   "metadata": {},
   "outputs": [
    {
     "name": "stdin",
     "output_type": "stream",
     "text": [
      "enter the value of num: 1\n"
     ]
    },
    {
     "name": "stdout",
     "output_type": "stream",
     "text": [
      "Bye\n"
     ]
    }
   ],
   "source": [
    "Num=int(input(\"enter the value of num:\"))\n",
    "\n",
    "elif (Num%5==0):\n",
    "    print(\"Hello\")\n",
    "\n",
    "else:\n",
    "    print(\"Bye\")"
   ]
  },
  {
   "cell_type": "markdown",
   "id": "ca81a973-1ca8-4535-b3bf-198493532edb",
   "metadata": {},
   "source": [
    "# Q9. Write a program to check whether the last digit of a number\n",
    "(entered by user) is divisible by 3 or not?"
   ]
  },
  {
   "cell_type": "code",
   "execution_count": 43,
   "id": "3bd4e9ae-053a-4515-9c26-ede21eb8e8a1",
   "metadata": {},
   "outputs": [
    {
     "name": "stdin",
     "output_type": "stream",
     "text": [
      "enter the value of num: 34\n"
     ]
    },
    {
     "name": "stdout",
     "output_type": "stream",
     "text": [
      "the 4 are not divisible by 3:\n"
     ]
    }
   ],
   "source": [
    "Num=int(input(\"enter the value of num:\"))\n",
    "last_num=abs(Num)%10\n",
    "if last_num%3==0:\n",
    "    print(f\"The {last_num} are divisible by 3:\")\n",
    "else:\n",
    "    print(f\"the {last_num} are not divisible by 3:\")"
   ]
  },
  {
   "cell_type": "markdown",
   "id": "dc591003-027c-48d4-bdd1-f5423412adab",
   "metadata": {},
   "source": [
    "# Q10. Write a program to check whether a number entered\n",
    "is three-digit number or not?"
   ]
  },
  {
   "cell_type": "code",
   "execution_count": 45,
   "id": "8f99a0d4-17be-49d1-9e7e-b690a050fcd8",
   "metadata": {},
   "outputs": [
    {
     "name": "stdin",
     "output_type": "stream",
     "text": [
      "enter the value of num: 123\n"
     ]
    },
    {
     "name": "stdout",
     "output_type": "stream",
     "text": [
      "123 is a three digit number:\n"
     ]
    }
   ],
   "source": [
    "Num=int(input(\"enter the value of num:\"))\n",
    "if (100<=abs(Num)<1000):\n",
    "    print(f\"{Num} is a three digit number:\")\n",
    "else: \n",
    "    print(f\"{Num} is not a three digit number:\")"
   ]
  },
  {
   "cell_type": "code",
   "execution_count": null,
   "id": "083e69b0-9e3e-4e2e-be05-791a0bf2e0bc",
   "metadata": {},
   "outputs": [],
   "source": []
  }
 ],
 "metadata": {
  "kernelspec": {
   "display_name": "Python 3 (ipykernel)",
   "language": "python",
   "name": "python3"
  },
  "language_info": {
   "codemirror_mode": {
    "name": "ipython",
    "version": 3
   },
   "file_extension": ".py",
   "mimetype": "text/x-python",
   "name": "python",
   "nbconvert_exporter": "python",
   "pygments_lexer": "ipython3",
   "version": "3.13.5"
  }
 },
 "nbformat": 4,
 "nbformat_minor": 5
}
